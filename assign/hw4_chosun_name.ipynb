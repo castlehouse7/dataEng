{
 "cells": [
  {
   "cell_type": "code",
   "execution_count": 14,
   "id": "f6c590fa-610b-4ef5-9fd7-b5b8bcf8419d",
   "metadata": {},
   "outputs": [],
   "source": [
    "import numpy as np\n"
   ]
  },
  {
   "cell_type": "code",
   "execution_count": 9,
   "id": "af6247a0-aa20-4073-9474-aa3f2d7990a1",
   "metadata": {},
   "outputs": [
    {
     "name": "stdout",
     "output_type": "stream",
     "text": [
      "['쌍', '쇠', '복', '돌', '팽', '육', '쌍', '개', '칠', '갑', '삼', '방']\n"
     ]
    }
   ],
   "source": [
    "month = ['쌍', '쇠', '복', '돌', '팽', '육', '쌍', '개', '칠', '갑', '삼', '방']\n",
    "print(month)"
   ]
  },
  {
   "cell_type": "code",
   "execution_count": 8,
   "id": "25dd23d7-967c-4b3f-8029-a98802ac3e56",
   "metadata": {},
   "outputs": [
    {
     "name": "stdout",
     "output_type": "stream",
     "text": [
      "['봉', '구', '욕', '포', '똥', '삼', '식', '석', '놈', '님', '년', '돌', '단', '득', '방', '질', '장', '걸', '래', '룡', '동', '순', '자', '박', '창', '언', '것', '포', '만', '단', '국']\n"
     ]
    }
   ],
   "source": [
    "day = ['봉', '구', '욕', '포', '똥', '삼', '식', '석', '놈', '님', '년', '돌', '단', '득', '방', '질', '장', '걸','래', '룡', '동', '순', '자', '박', '창', '언', '것', '포', '만', '단', '국']\n",
    "print(day)"
   ]
  },
  {
   "cell_type": "code",
   "execution_count": 24,
   "id": "f3cb60ea-a78a-4f53-92f3-1857c8f2c3e9",
   "metadata": {},
   "outputs": [],
   "source": [
    "def get_my_chosun_name(family_name, num1, num2):\n",
    "    months = month[num1-1]\n",
    "    days = day[num2-1]\n",
    "    \n",
    "    print(\"당신의 조선시대 이름은 \" + family_name+months+days + \" 입니다.\")\n",
    "   "
   ]
  },
  {
   "cell_type": "code",
   "execution_count": 25,
   "id": "d9e078ce-67f9-4060-87b2-480a30c80255",
   "metadata": {},
   "outputs": [
    {
     "name": "stdout",
     "output_type": "stream",
     "text": [
      "당신의 조선시대 이름은 이팽봉 입니다.\n"
     ]
    }
   ],
   "source": [
    "get_my_chosun_name('이', 5, 1)"
   ]
  },
  {
   "cell_type": "code",
   "execution_count": 26,
   "id": "f8476c35-8687-4a04-843d-6305b126e2ca",
   "metadata": {},
   "outputs": [
    {
     "name": "stdout",
     "output_type": "stream",
     "text": [
      "당신의 조선시대 이름은 이쌍봉 입니다.\n"
     ]
    }
   ],
   "source": [
    "get_my_chosun_name('이', 1, 1)"
   ]
  },
  {
   "cell_type": "code",
   "execution_count": null,
   "id": "5744fece-a8ad-4410-acbe-f174851dd026",
   "metadata": {},
   "outputs": [],
   "source": []
  }
 ],
 "metadata": {
  "kernelspec": {
   "display_name": "Python 3 (ipykernel)",
   "language": "python",
   "name": "python3"
  },
  "language_info": {
   "codemirror_mode": {
    "name": "ipython",
    "version": 3
   },
   "file_extension": ".py",
   "mimetype": "text/x-python",
   "name": "python",
   "nbconvert_exporter": "python",
   "pygments_lexer": "ipython3",
   "version": "3.9.7"
  }
 },
 "nbformat": 4,
 "nbformat_minor": 5
}
